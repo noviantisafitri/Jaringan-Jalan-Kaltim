{
  "nbformat": 4,
  "nbformat_minor": 0,
  "metadata": {
    "colab": {
      "provenance": [],
      "authorship_tag": "ABX9TyM3KsEiDM7MPOd1da6BthVw",
      "include_colab_link": true
    },
    "kernelspec": {
      "name": "python3",
      "display_name": "Python 3"
    },
    "language_info": {
      "name": "python"
    }
  },
  "cells": [
    {
      "cell_type": "markdown",
      "metadata": {
        "id": "view-in-github",
        "colab_type": "text"
      },
      "source": [
        "<a href=\"https://colab.research.google.com/github/noviantisafitri/Jaringan-Jalan-Kaltim/blob/main/Jalan_Arteri_dan_Kolektor.ipynb\" target=\"_parent\"><img src=\"https://colab.research.google.com/assets/colab-badge.svg\" alt=\"Open In Colab\"/></a>"
      ]
    },
    {
      "cell_type": "code",
      "source": [
        "# 1. Install library yang dibutuhkan (jika belum)\n",
        "!pip install osmnx geopandas pyproj fiona shapely rtree"
      ],
      "metadata": {
        "id": "phAYgKXjODxK"
      },
      "execution_count": null,
      "outputs": []
    },
    {
      "cell_type": "code",
      "source": [
        "# 2. Import library\n",
        "import osmnx as ox\n",
        "import geopandas as gpd\n",
        "import shutil\n",
        "from google.colab import files"
      ],
      "metadata": {
        "id": "9oU5T4NHOG_n"
      },
      "execution_count": null,
      "outputs": []
    },
    {
      "cell_type": "code",
      "source": [
        "# 3. Tentukan kota\n",
        "kota = \"Bontang, Kalimantan Timur, Indonesia\"\n",
        "\n",
        "# 4. Ambil jaringan jalan kendaraan bermotor\n",
        "graph = ox.graph_from_place(kota, network_type='drive')\n",
        "\n",
        "# 5. Konversi ke GeoDataFrame (hanya edges / ruas jalan)\n",
        "gdf_jalan = ox.graph_to_gdfs(graph, nodes=False, edges=True)\n",
        "\n",
        "# 6. Filter: hanya jalan yang punya nama\n",
        "gdf_jalan = gdf_jalan[~gdf_jalan['name'].isna()]\n",
        "\n",
        "# 7. Definisikan kategori jalan\n",
        "arteri = ['motorway', 'trunk', 'primary']\n",
        "kolektor = ['secondary', 'tertiary']\n",
        "kategori_terpilih = arteri + kolektor\n",
        "\n",
        "# 8. Filter hanya jalan arteri dan kolektor\n",
        "gdf_jalan = gdf_jalan[gdf_jalan['highway'].isin(kategori_terpilih)]"
      ],
      "metadata": {
        "id": "ZB3uaHHnOJnc"
      },
      "execution_count": null,
      "outputs": []
    },
    {
      "cell_type": "code",
      "source": [
        "# 9. Tambahkan kolom kategori\n",
        "def kategorikan_jalan(jenis):\n",
        "    if jenis in arteri:\n",
        "        return \"Arteri\"\n",
        "    elif jenis in kolektor:\n",
        "        return \"Kolektor\"\n",
        "    else:\n",
        "        return \"Lainnya\"\n",
        "\n",
        "gdf_jalan['kategori'] = gdf_jalan['highway'].apply(kategorikan_jalan)"
      ],
      "metadata": {
        "id": "uhl0JtsLOLel"
      },
      "execution_count": null,
      "outputs": []
    },
    {
      "cell_type": "code",
      "source": [
        "# 10. Reset index agar rapi\n",
        "gdf_jalan = gdf_jalan.reset_index(drop=True)\n",
        "\n",
        "# 11. Simpan ke dalam folder sebagai shapefile\n",
        "output_folder = \"/content/jalan_arteri_kolektor_bontang\"\n",
        "gdf_jalan.to_file(output_folder, driver=\"ESRI Shapefile\")"
      ],
      "metadata": {
        "id": "GMBqOsRRON1F"
      },
      "execution_count": null,
      "outputs": []
    },
    {
      "cell_type": "code",
      "source": [
        "# 12. Kompres hasil shapefile menjadi ZIP\n",
        "zip_path = shutil.make_archive(\"jalan_arteri_kolektor_bontang\", 'zip', output_folder)"
      ],
      "metadata": {
        "id": "5hQI_eFqOdh8"
      },
      "execution_count": null,
      "outputs": []
    },
    {
      "cell_type": "code",
      "source": [
        "# 13. Unduh file ZIP ke lokal\n",
        "files.download(zip_path)"
      ],
      "metadata": {
        "id": "oHBqnU86OP_6"
      },
      "execution_count": null,
      "outputs": []
    }
  ]
}